{
 "cells": [
  {
   "cell_type": "code",
   "execution_count": null,
   "id": "cda6cace-78f9-414e-82fe-f84bd98313a8",
   "metadata": {},
   "outputs": [],
   "source": [
    "## Title: Market Basket Analysis\n",
    "## Objective: to identify products frequently purchased together at Daily Grind Coffee. \n",
    "## These associations can inform product bundling, cross-selling strategies, and targeted promotions."
   ]
  },
  {
   "cell_type": "code",
   "execution_count": 6,
   "id": "e589e045-6e1a-41b4-b3a1-00097b777e2b",
   "metadata": {},
   "outputs": [
    {
     "name": "stdout",
     "output_type": "stream",
     "text": [
      "Frequent Itemsets:\n",
      "    support                        itemsets\n",
      "0  0.498399              (Blueberry Muffin)\n",
      "1  0.188275                    (Cappuccino)\n",
      "2  0.200080                    (Chai Latte)\n",
      "3  0.501601                     (Croissant)\n",
      "4  0.204882                      (Espresso)\n",
      "5  0.205082                     (Green Tea)\n",
      "6  0.201681                         (Latte)\n",
      "7  0.095438  (Blueberry Muffin, Cappuccino)\n",
      "8  0.102241  (Blueberry Muffin, Chai Latte)\n",
      "9  0.103041    (Blueberry Muffin, Espresso)\n",
      "Top Association Rules:\n",
      "          antecedents         consequents  antecedent support  \\\n",
      "8             (Latte)         (Croissant)            0.201681   \n",
      "3        (Chai Latte)  (Blueberry Muffin)            0.200080   \n",
      "6         (Green Tea)         (Croissant)            0.205082   \n",
      "1        (Cappuccino)  (Blueberry Muffin)            0.188275   \n",
      "5          (Espresso)  (Blueberry Muffin)            0.204882   \n",
      "9         (Croissant)             (Latte)            0.501601   \n",
      "7         (Croissant)         (Green Tea)            0.501601   \n",
      "4  (Blueberry Muffin)          (Espresso)            0.498399   \n",
      "2  (Blueberry Muffin)        (Chai Latte)            0.498399   \n",
      "0  (Blueberry Muffin)        (Cappuccino)            0.498399   \n",
      "\n",
      "   consequent support   support  confidence      lift  representativity  \\\n",
      "8            0.501601  0.105042    0.520833  1.038343               1.0   \n",
      "3            0.498399  0.102241    0.511000  1.025282               1.0   \n",
      "6            0.501601  0.104042    0.507317  1.011396               1.0   \n",
      "1            0.498399  0.095438    0.506908  1.017071               1.0   \n",
      "5            0.498399  0.103041    0.502930  1.009090               1.0   \n",
      "9            0.201681  0.105042    0.209414  1.038343               1.0   \n",
      "7            0.205082  0.104042    0.207419  1.011396               1.0   \n",
      "4            0.204882  0.103041    0.206744  1.009090               1.0   \n",
      "2            0.200080  0.102241    0.205138  1.025282               1.0   \n",
      "0            0.188275  0.095438    0.191489  1.017071               1.0   \n",
      "\n",
      "   leverage  conviction  zhangs_metric   jaccard  certainty  kulczynski  \n",
      "8  0.003879    1.040138       0.046256  0.175585   0.038589    0.365123  \n",
      "3  0.002521    1.025768       0.030827  0.171477   0.025121    0.358069  \n",
      "6  0.001172    1.011603       0.014175  0.172643   0.011470    0.357368  \n",
      "1  0.001602    1.017255       0.020678  0.161421   0.016962    0.349198  \n",
      "5  0.000928    1.009114       0.011329  0.171667   0.009032    0.354837  \n",
      "9  0.003879    1.009781       0.074091  0.175585   0.009687    0.365123  \n",
      "7  0.001172    1.002949       0.022608  0.172643   0.002940    0.357368  \n",
      "4  0.000928    1.002348       0.017958  0.171667   0.002342    0.354837  \n",
      "2  0.002521    1.006364       0.049160  0.171477   0.006324    0.358069  \n",
      "0  0.001602    1.003975       0.033462  0.161421   0.003960    0.349198  \n"
     ]
    }
   ],
   "source": [
    "import pandas as pd\n",
    "from mlxtend.frequent_patterns import apriori, association_rules\n",
    "\n",
    "# 1) LOAD AND PREPARE DATA\n",
    "# Load dataset\n",
    "df = pd.read_csv(\"coffee_shop_sales_simulated.csv\")\n",
    "\n",
    "# Create a transaction level dataset\n",
    "basket = (\n",
    "    df.groupby(['transaction_id', 'product_name'])['quantity']\n",
    "    .sum().unstack().reset_index().fillna(0)\n",
    ")\n",
    "# Convert to boolean (true or false)\n",
    "basket.set_index('transaction_id', inplace =True)\n",
    "basket = (basket > 0)\n",
    "\n",
    "\n",
    "# 2) APPLY APRIORI\n",
    "# Find frequent items\n",
    "frequent_itemsets = apriori(basket, min_support=0.05, use_colnames=True)\n",
    "\n",
    "# Generate association rules\n",
    "rules = association_rules(frequent_itemsets, metric=\"lift\", min_threshold=1)\n",
    "\n",
    "# Only keep rules with at least 2 items (no singletons)\n",
    "rules = rules[rules['antecedents'].apply(lambda x: len(x) > 0) & \n",
    "              rules['consequents'].apply(lambda x: len(x) > 0)]\n",
    "\n",
    "# Frequent items sets\n",
    "print(\"Frequent Itemsets:\")\n",
    "print(frequent_itemsets.head(10))\n",
    "# Sort and print rules\n",
    "print(\"Top Association Rules:\")\n",
    "print(rules.sort_values(\"confidence\", ascending=False).head(10))"
   ]
  },
  {
   "cell_type": "code",
   "execution_count": null,
   "id": "d5b74545-6f55-4b47-8aa7-9d209a37e035",
   "metadata": {},
   "outputs": [],
   "source": [
    "## Reflection: This analysis revealed that while bakery items like Croissants and Blueberry Muffins frequently co-occur with drinks such as \n",
    "## Cappuccinos, Lattes, and Espressos, the associations are relatively weak (lift ~1.0). The exercise highlighted the importance of preparing data \n",
    "## for the right analytical context — since the original dataset lacked multi-item baskets, I engineered a simulated version to demonstrate Market \n",
    "## Basket Analysis. The project strengthened my skills in data preparation, association rule mining, and business interpretation, showing how even modest product \n",
    "## pairings can inspire bundling and promotion strategies in retail."
   ]
  },
  {
   "cell_type": "code",
   "execution_count": null,
   "id": "13a60b01-ffe5-4ead-a9e9-964734b5f977",
   "metadata": {},
   "outputs": [],
   "source": []
  },
  {
   "cell_type": "code",
   "execution_count": null,
   "id": "42b4716a-068d-45f7-8c7c-4ecfd6c63978",
   "metadata": {},
   "outputs": [],
   "source": []
  }
 ],
 "metadata": {
  "kernelspec": {
   "display_name": "Python (coffee_env)",
   "language": "python",
   "name": "coffee_env"
  },
  "language_info": {
   "codemirror_mode": {
    "name": "ipython",
    "version": 3
   },
   "file_extension": ".py",
   "mimetype": "text/x-python",
   "name": "python",
   "nbconvert_exporter": "python",
   "pygments_lexer": "ipython3",
   "version": "3.13.7"
  }
 },
 "nbformat": 4,
 "nbformat_minor": 5
}
